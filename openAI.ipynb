{
  "nbformat": 4,
  "nbformat_minor": 0,
  "metadata": {
    "colab": {
      "provenance": [],
      "include_colab_link": true
    },
    "kernelspec": {
      "name": "python3",
      "display_name": "Python 3"
    },
    "language_info": {
      "name": "python"
    }
  },
  "cells": [
    {
      "cell_type": "markdown",
      "metadata": {
        "id": "view-in-github",
        "colab_type": "text"
      },
      "source": [
        "<a href=\"https://colab.research.google.com/github/brunafont/bruna_font/blob/main/openAI.ipynb\" target=\"_parent\"><img src=\"https://colab.research.google.com/assets/colab-badge.svg\" alt=\"Open In Colab\"/></a>"
      ]
    },
    {
      "cell_type": "code",
      "source": [
        "!pip install -qU openai langchain"
      ],
      "metadata": {
        "id": "miOF_GZU5mst",
        "colab": {
          "base_uri": "https://localhost:8080/"
        },
        "outputId": "3ff494ce-9007-4b87-d390-3f7a6d537979"
      },
      "execution_count": null,
      "outputs": [
        {
          "output_type": "stream",
          "name": "stdout",
          "text": [
            "\u001b[2K     \u001b[90m━━━━━━━━━━━━━━━━━━━━━━━━━━━━━━━━━━━━━━━━\u001b[0m \u001b[32m224.9/224.9 kB\u001b[0m \u001b[31m2.6 MB/s\u001b[0m eta \u001b[36m0:00:00\u001b[0m\n",
            "\u001b[2K     \u001b[90m━━━━━━━━━━━━━━━━━━━━━━━━━━━━━━━━━━━━━━━━\u001b[0m \u001b[32m798.0/798.0 kB\u001b[0m \u001b[31m7.5 MB/s\u001b[0m eta \u001b[36m0:00:00\u001b[0m\n",
            "\u001b[2K     \u001b[90m━━━━━━━━━━━━━━━━━━━━━━━━━━━━━━━━━━━━━━━━\u001b[0m \u001b[32m75.9/75.9 kB\u001b[0m \u001b[31m5.1 MB/s\u001b[0m eta \u001b[36m0:00:00\u001b[0m\n",
            "\u001b[2K     \u001b[90m━━━━━━━━━━━━━━━━━━━━━━━━━━━━━━━━━━━━━━━━\u001b[0m \u001b[32m1.5/1.5 MB\u001b[0m \u001b[31m10.8 MB/s\u001b[0m eta \u001b[36m0:00:00\u001b[0m\n",
            "\u001b[2K     \u001b[90m━━━━━━━━━━━━━━━━━━━━━━━━━━━━━━━━━━━━━━━━\u001b[0m \u001b[32m216.6/216.6 kB\u001b[0m \u001b[31m13.6 MB/s\u001b[0m eta \u001b[36m0:00:00\u001b[0m\n",
            "\u001b[2K     \u001b[90m━━━━━━━━━━━━━━━━━━━━━━━━━━━━━━━━━━━━━━━━\u001b[0m \u001b[32m48.3/48.3 kB\u001b[0m \u001b[31m4.1 MB/s\u001b[0m eta \u001b[36m0:00:00\u001b[0m\n",
            "\u001b[2K     \u001b[90m━━━━━━━━━━━━━━━━━━━━━━━━━━━━━━━━━━━━━━━━\u001b[0m \u001b[32m49.4/49.4 kB\u001b[0m \u001b[31m3.9 MB/s\u001b[0m eta \u001b[36m0:00:00\u001b[0m\n",
            "\u001b[2K     \u001b[90m━━━━━━━━━━━━━━━━━━━━━━━━━━━━━━━━━━━━━━━━\u001b[0m \u001b[32m76.9/76.9 kB\u001b[0m \u001b[31m6.6 MB/s\u001b[0m eta \u001b[36m0:00:00\u001b[0m\n",
            "\u001b[2K     \u001b[90m━━━━━━━━━━━━━━━━━━━━━━━━━━━━━━━━━━━━━━━━\u001b[0m \u001b[32m58.3/58.3 kB\u001b[0m \u001b[31m6.1 MB/s\u001b[0m eta \u001b[36m0:00:00\u001b[0m\n",
            "\u001b[?25h\u001b[31mERROR: pip's dependency resolver does not currently take into account all the packages that are installed. This behaviour is the source of the following dependency conflicts.\n",
            "llmx 0.0.15a0 requires cohere, which is not installed.\n",
            "llmx 0.0.15a0 requires tiktoken, which is not installed.\n",
            "tensorflow-probability 0.22.0 requires typing-extensions<4.6.0, but you have typing-extensions 4.9.0 which is incompatible.\u001b[0m\u001b[31m\n",
            "\u001b[0m"
          ]
        }
      ]
    },
    {
      "cell_type": "code",
      "source": [
        "import os\n",
        "import openai"
      ],
      "metadata": {
        "id": "YoxylcB85gDr"
      },
      "execution_count": null,
      "outputs": []
    },
    {
      "cell_type": "code",
      "execution_count": null,
      "metadata": {
        "id": "kxVC4FLF0Y-e"
      },
      "outputs": [],
      "source": [
        "os.environ[\"OPENAI_API_KEY\"] = \"your key here\""
      ]
    },
    {
      "cell_type": "code",
      "source": [
        "client = openai.OpenAI()\n",
        "\n",
        "def get_completion(prompt, model=\"gpt-3.5-turbo\"):\n",
        "    messages = [{\"role\": \"user\", \"content\": prompt}]\n",
        "    response = client.chat.completions.create(\n",
        "        model=model,\n",
        "        messages=messages,\n",
        "        temperature=0\n",
        "    )\n",
        "    return response.choices[0].message.content"
      ],
      "metadata": {
        "id": "mOiEHasDo5Wm"
      },
      "execution_count": null,
      "outputs": []
    },
    {
      "cell_type": "code",
      "source": [
        "text = f\"\"\"\n",
        "Die Universität Wien (lateinisch Alma Mater Rudolphina Vindobonensis, kurz auch Rudolphina) ist mit rund 85.000 Studierenden und über 10.000 Angestellten die größte Hochschule in Österreich sowie im deutschsprachigen Raum und eine der größten in Europa. 1365 in Wien gegründet, ist sie die älteste Universität im heutigen deutschen Sprachraum und die drittälteste in Mitteleuropa nach der früher deutschsprachigen Karls-Universität in Prag und der Jagiellonen-Universität in Krakau. Mit Stand von Juli 2023 umfasste das Angebot 186 Studien.[2] Sie gilt als führende Universität in Österreich und genießt international hohes Ansehen.[3][4]\n",
        "\"\"\"\n",
        "prompt = f\"\"\"\n",
        "Summarize the text delimited by triple backticks \\\n",
        "into a single sentence with the maximum of 10 words.\n",
        "```{text}```\n",
        "\"\"\"\n",
        "response = get_completion(prompt)\n",
        "print(response)"
      ],
      "metadata": {
        "id": "bnwasMrc4blO",
        "colab": {
          "base_uri": "https://localhost:8080/"
        },
        "outputId": "de8d7bac-1dcb-480e-b706-d098cd072ed7"
      },
      "execution_count": null,
      "outputs": [
        {
          "output_type": "stream",
          "name": "stdout",
          "text": [
            "The University of Vienna is the largest university in Austria with over 85,000 students and is highly regarded internationally.\n"
          ]
        }
      ]
    },
    {
      "cell_type": "code",
      "source": [
        "print(prompt)"
      ],
      "metadata": {
        "id": "VOQfppILln6D",
        "colab": {
          "base_uri": "https://localhost:8080/"
        },
        "outputId": "c98d6be3-5e1c-4f75-d041-cab506ec1e88"
      },
      "execution_count": null,
      "outputs": [
        {
          "output_type": "stream",
          "name": "stdout",
          "text": [
            "\n",
            "resolve the math euqtaion below delimited by triple backticks.\n",
            "```\n",
            "how much is 1 + 1\n",
            "```\n",
            "\n"
          ]
        }
      ]
    },
    {
      "cell_type": "code",
      "source": [
        "response = get_completion(\"You are a Physics teacher. Explain me as if I was 10 years ols. Explain me why the sky is blue\")\n",
        "print(response)"
      ],
      "metadata": {
        "colab": {
          "base_uri": "https://localhost:8080/"
        },
        "id": "Fle8zxKx8rcN",
        "outputId": "62d745ef-02d9-4493-e18c-fdd571b82157"
      },
      "execution_count": null,
      "outputs": [
        {
          "output_type": "stream",
          "name": "stdout",
          "text": [
            "Hey there! So, have you ever wondered why the sky looks blue during the day? Well, it's actually because of something called scattering of light. Let me explain it to you in a simple way.\n",
            "\n",
            "You see, sunlight is made up of different colors, like red, orange, yellow, green, blue, and violet. These colors are like a rainbow. But when sunlight enters our atmosphere, something interesting happens. The tiny particles in the air, like dust and molecules, scatter the sunlight in all directions.\n",
            "\n",
            "Now, here's the cool part. The blue light from the sun gets scattered more than the other colors because it travels in shorter, smaller waves. This means that when sunlight reaches our eyes, we see more of the blue light than any other color. That's why the sky appears blue to us!\n",
            "\n",
            "But wait, there's more! When the sun is lower in the sky, like during sunrise or sunset, the sunlight has to pass through more of the Earth's atmosphere. This causes the blue light to scatter even more, and the other colors, like red and orange, to scatter less. That's why the sky can look orange or red during those times.\n",
            "\n",
            "So, to sum it up, the sky looks blue because of the scattering of sunlight by the particles in our atmosphere. Isn't that fascinating?\n"
          ]
        }
      ]
    },
    {
      "cell_type": "code",
      "source": [
        "text = \"\"\"\n",
        "Pride and Prejudice is the second novel by English author Jane Austen, published in 1813.\n",
        "A novel of manners, it follows the character development of Elizabeth Bennet, the protagonist\n",
        "of the book, who learns about the repercussions of hasty judgments and comes to appreciate the\n",
        "difference between superficial goodness and actual goodness.\n",
        "\n",
        "Mr Bennet, owner of the Longbourn estate in Hertfordshire, has five daughters, but his property is\n",
        "entailed and can only be passed to a male heir. His wife also lacks an inheritance, so his family\n",
        "faces becoming poor upon his death. Thus, it is imperative that at least one of the daughters marry\n",
        "well to support the others, which is a motivation that drives the plot.\n",
        "\n",
        "Pride and Prejudice has consistently appeared near the top of lists of \"most-loved books\" among\n",
        "literary scholars and the reading public. It has become one of the most popular novels in English\n",
        "literature, with over 20 million copies sold, and has inspired many derivatives in modern literature.\n",
        "[1][2] For more than a century, dramatic adaptations, reprints, unofficial sequels, films, and TV\n",
        "versions of Pride and Prejudice have portrayed the memorable characters and themes of the novel,\n",
        "reaching mass audiences.[3]\n",
        "\"\"\"\n"
      ],
      "metadata": {
        "id": "niRuYbbI-50S"
      },
      "execution_count": null,
      "outputs": []
    },
    {
      "cell_type": "code",
      "source": [
        "prompt = f\"\"\"\n",
        "Give me all the human emotions from the text below from the list: [anger, happiness, vengeance, pride]\n",
        "{text}\n",
        "\"\"\""
      ],
      "metadata": {
        "id": "843LIDkEBJxH"
      },
      "execution_count": null,
      "outputs": []
    },
    {
      "cell_type": "code",
      "source": [
        "response = get_completion(prompt)\n",
        "print(response)"
      ],
      "metadata": {
        "colab": {
          "base_uri": "https://localhost:8080/"
        },
        "id": "sc_Ipv4zEM6-",
        "outputId": "9ad02f2d-e040-45c9-ac8a-59217b7e756b"
      },
      "execution_count": null,
      "outputs": [
        {
          "output_type": "stream",
          "name": "stdout",
          "text": [
            "The human emotions present in the text are pride and happiness.\n"
          ]
        }
      ]
    },
    {
      "cell_type": "code",
      "source": [],
      "metadata": {
        "id": "Uf9-lWKlEOHY"
      },
      "execution_count": null,
      "outputs": []
    }
  ]
}